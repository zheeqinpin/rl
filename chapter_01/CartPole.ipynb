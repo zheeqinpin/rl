{
 "cells": [
  {
   "cell_type": "markdown",
   "metadata": {},
   "source": [
    "## 平衡车"
   ]
  },
  {
   "cell_type": "code",
   "execution_count": null,
   "metadata": {},
   "outputs": [],
   "source": [
    "import gym\n",
    "import time\n",
    "\n",
    "env = gym.make(\"CartPole-v0\")\n",
    "\n",
    "env.reset()\n",
    "\n",
    "# 一直左移\n",
    "action = 0\n",
    "sum_reward = 0\n",
    "\n",
    "for i in range(1000):\n",
    "    env.render()\n",
    "    time.sleep(1)\n",
    "    observation, reward, done, info = env.step(action)\n",
    "    sum_reward += reward\n",
    "    print(observation, reward, sum_reward, done, info)\n",
    "    if done:\n",
    "        break"
   ]
  },
  {
   "cell_type": "markdown",
   "metadata": {},
   "source": [
    "## 平衡车"
   ]
  },
  {
   "cell_type": "code",
   "execution_count": null,
   "metadata": {},
   "outputs": [],
   "source": [
    "import gym\n",
    "import time\n",
    "\n",
    "env = gym.make(\"CartPole-v0\")\n",
    "\n",
    "env.reset()\n",
    "\n",
    "# 一直往左移\n",
    "action = 0\n",
    "sum_reward = 0\n",
    "\n",
    "for i in range(1000):\n",
    "    env.render()\n",
    "    time.sleep(0.1)\n",
    "    observation, reward, done, info = env.step(action)\n",
    "    if observation[1] < 0:\n",
    "        action = 1\n",
    "    else:\n",
    "        action = 0\n",
    "    sum_reward += reward\n",
    "    print(observation, reward, sum_reward, done, info)\n",
    "    if done:\n",
    "        break"
   ]
  }
 ],
 "metadata": {
  "kernelspec": {
   "display_name": "Python 3",
   "language": "python",
   "name": "python3"
  },
  "language_info": {
   "codemirror_mode": {
    "name": "ipython",
    "version": 3
   },
   "file_extension": ".py",
   "mimetype": "text/x-python",
   "name": "python",
   "nbconvert_exporter": "python",
   "pygments_lexer": "ipython3",
   "version": "3.5.5"
  }
 },
 "nbformat": 4,
 "nbformat_minor": 2
}
