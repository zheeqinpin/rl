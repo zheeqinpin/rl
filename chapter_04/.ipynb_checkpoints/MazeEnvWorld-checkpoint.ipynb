{
 "cells": [
  {
   "cell_type": "markdown",
   "metadata": {},
   "source": [
    "## 这是一个迷宫环境，采用蒙特卡罗方法寻找最有策略。"
   ]
  },
  {
   "cell_type": "markdown",
   "metadata": {},
   "source": [
    "#### 试验发现，在数据采集阶段试验的幕数越多，最终的策略效果越好。现设定学习100幕。 "
   ]
  },
  {
   "cell_type": "code",
   "execution_count": null,
   "metadata": {},
   "outputs": [],
   "source": [
    "import gym\n",
    "import time\n",
    "import random\n",
    "env = gym.make('MazeEnv-v0')\n",
    "state,best_policy = env.reset()\n",
    "print(state)\n",
    "while True:  #机器人不断探索，直到找到金币或死亡或探索次数达到1000次\n",
    "    env.render()       #显示创建的环境    \n",
    "    action = best_policy[state]\n",
    "    state,reward,done,info = env.step(action)#执行上一步选择的动作，并输出下一步状态和获得的回报，done表示是否结束探索\n",
    "    time.sleep(0.5)\n",
    "    if done:\n",
    "        env.render()\n",
    "        break"
   ]
  },
  {
   "cell_type": "markdown",
   "metadata": {},
   "source": [
    "![MazeEnv](./maze.png)"
   ]
  }
 ],
 "metadata": {
  "kernelspec": {
   "display_name": "Python 3",
   "language": "python",
   "name": "python3"
  },
  "language_info": {
   "codemirror_mode": {
    "name": "ipython",
    "version": 3
   },
   "file_extension": ".py",
   "mimetype": "text/x-python",
   "name": "python",
   "nbconvert_exporter": "python",
   "pygments_lexer": "ipython3",
   "version": "3.5.5"
  }
 },
 "nbformat": 4,
 "nbformat_minor": 2
}
