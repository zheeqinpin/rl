{
 "cells": [
  {
   "cell_type": "markdown",
   "metadata": {},
   "source": [
    "## 这是一个18个状态的机器人找金币的例程，采用动态规划中【策略迭代算法】【值迭代算法】找到最优策略。"
   ]
  },
  {
   "cell_type": "code",
   "execution_count": 1,
   "metadata": {},
   "outputs": [
    {
     "name": "stdout",
     "output_type": "stream",
     "text": [
      "the best policy_pi is:1       e\n",
      "2       e\n",
      "3       s\n",
      "4       s\n",
      "5       s\n",
      "6       e\n",
      "7       e\n",
      "8       s\n",
      "9       s\n",
      "10      s\n",
      "11      e\n",
      "12      e\n",
      "13      s\n",
      "14      w\n",
      "15      w\n",
      "16    NaN\n",
      "17    NaN\n",
      "18    NaN\n",
      "dtype: object\n",
      "the best policy_vi is:1     e\n",
      "2     s\n",
      "3     s\n",
      "4     s\n",
      "5     w\n",
      "6     s\n",
      "7     e\n",
      "8     s\n",
      "9     w\n",
      "10    s\n",
      "11    e\n",
      "12    e\n",
      "13    s\n",
      "14    w\n",
      "15    w\n",
      "16    n\n",
      "17    s\n",
      "18    e\n",
      "dtype: object\n"
     ]
    }
   ],
   "source": [
    "import gym\n",
    "import time\n",
    "env = gym.make('GridWorldPlusDp-v0')\n",
    "state, best_policy_pi,best_policy_vi = env.reset()\n",
    "print('the best policy_pi is:%s' % best_policy_pi)\n",
    "print('the best policy_vi is:%s' % best_policy_vi)"
   ]
  },
  {
   "cell_type": "code",
   "execution_count": 2,
   "metadata": {},
   "outputs": [],
   "source": [
    "while True:  #机器人不断探索，直到找到金币或死亡或探索次数达到1000次\n",
    "    env.render()       #显示创建的环境    \n",
    "    action = best_policy_vi[state]\n",
    "    state,reward,done,info = env.step(action)#执行上一步选择的动作，并输出下一步状态和获得的回报，done表示是否结束探索\n",
    "    time.sleep(0.5)\n",
    "    if done:\n",
    "        env.render()\n",
    "        break"
   ]
  }
 ],
 "metadata": {
  "kernelspec": {
   "display_name": "Python 3",
   "language": "python",
   "name": "python3"
  },
  "language_info": {
   "codemirror_mode": {
    "name": "ipython",
    "version": 3
   },
   "file_extension": ".py",
   "mimetype": "text/x-python",
   "name": "python",
   "nbconvert_exporter": "python",
   "pygments_lexer": "ipython3",
   "version": "3.5.5"
  }
 },
 "nbformat": 4,
 "nbformat_minor": 2
}
