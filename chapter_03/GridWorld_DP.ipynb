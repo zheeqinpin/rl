{
 "cells": [
  {
   "cell_type": "markdown",
   "metadata": {},
   "source": [
    "## 这是一个18个状态的机器人找金币的例程，采用动态规划中【策略迭代算法】找到最优策略。"
   ]
  },
  {
   "cell_type": "code",
   "execution_count": null,
   "metadata": {},
   "outputs": [],
   "source": [
    "import gym\n",
    "import time\n",
    "env = gym.make('GridWorldPlusDp-v0')\n",
    "state, best_policy = env.reset()\n",
    "print('the best policy is:%s' % best_policy)"
   ]
  },
  {
   "cell_type": "code",
   "execution_count": null,
   "metadata": {},
   "outputs": [],
   "source": [
    "while True:  #机器人不断探索，直到找到金币或死亡或探索次数达到1000次\n",
    "    env.render()       #显示创建的环境    \n",
    "    action = best_policy[state]\n",
    "    state,reward,done,info = env.step(action)#执行上一步选择的动作，并输出下一步状态和获得的回报，done表示是否结束探索\n",
    "    time.sleep(0.5)\n",
    "    if done:\n",
    "        env.render()\n",
    "        break"
   ]
  }
 ],
 "metadata": {
  "kernelspec": {
   "display_name": "Python 3",
   "language": "python",
   "name": "python3"
  },
  "language_info": {
   "codemirror_mode": {
    "name": "ipython",
    "version": 3
   },
   "file_extension": ".py",
   "mimetype": "text/x-python",
   "name": "python",
   "nbconvert_exporter": "python",
   "pygments_lexer": "ipython3",
   "version": "3.5.5"
  }
 },
 "nbformat": 4,
 "nbformat_minor": 2
}
