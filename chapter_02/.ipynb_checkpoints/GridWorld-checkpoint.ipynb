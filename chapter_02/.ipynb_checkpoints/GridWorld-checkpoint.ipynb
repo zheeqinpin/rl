{
 "cells": [
  {
   "cell_type": "markdown",
   "metadata": {},
   "source": [
    "## 这是8个状态的机器人找金币环境"
   ]
  },
  {
   "cell_type": "code",
   "execution_count": null,
   "metadata": {},
   "outputs": [],
   "source": [
    "import gym\n",
    "import time\n",
    "import random\n",
    "env = gym.make('GridWorld-v0')\n",
    "env.reset()\n",
    "actions = ['n','e','s','w']  #机器人的动作集合\n",
    "sum_reward = 0\n",
    "for i in range(1000):  #机器人不断探索，直到找到金币或死亡或探索次数达到1000次\n",
    "    env.render()       #显示创建的环境\n",
    "    time.sleep(1)           \n",
    "    action = random.choice(actions)   #从动作集合中随机选择一个动作\n",
    "    print(action)                    \n",
    "    next_state, reward, done, info = env.step(action)#执行上一步选择的动作，并输出下一步状态和获得的回报，done表示是否结束探索\n",
    "    sum_reward += reward\n",
    "    print(next_state, reward, sum_reward, done, info)\n",
    "    if done:\n",
    "        env.render()\n",
    "        break"
   ]
  },
  {
   "cell_type": "markdown",
   "metadata": {},
   "source": [
    "## 这是18个状态的机器人找金币环境"
   ]
  },
  {
   "cell_type": "code",
   "execution_count": null,
   "metadata": {},
   "outputs": [],
   "source": [
    "import gym\n",
    "import time\n",
    "import random\n",
    "env = gym.make('GridWorldPlus-v0')\n",
    "env.reset()\n",
    "actions = ['n','e','s','w']  #机器人的动作集合\n",
    "sum_reward = 0\n",
    "for i in range(1000):  #机器人不断探索，直到找到金币或死亡或探索次数达到1000次\n",
    "    env.render()       #显示创建的环境\n",
    "    time.sleep(1)           \n",
    "    action = random.choice(actions)   #从动作集合中随机选择一个动作\n",
    "    print(action)                    \n",
    "    next_state, reward, done, info = env.step(action)#执行上一步选择的动作，并输出下一步状态和获得的回报，done表示是否结束探索\n",
    "    sum_reward += reward\n",
    "    print(next_state, reward, sum_reward, done, info)\n",
    "    if done:\n",
    "        env.render()\n",
    "        break"
   ]
  }
 ],
 "metadata": {
  "kernelspec": {
   "display_name": "Python 3",
   "language": "python",
   "name": "python3"
  },
  "language_info": {
   "codemirror_mode": {
    "name": "ipython",
    "version": 3
   },
   "file_extension": ".py",
   "mimetype": "text/x-python",
   "name": "python",
   "nbconvert_exporter": "python",
   "pygments_lexer": "ipython3",
   "version": "3.5.5"
  }
 },
 "nbformat": 4,
 "nbformat_minor": 2
}
